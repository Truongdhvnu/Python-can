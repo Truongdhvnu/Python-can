{
 "cells": [
  {
   "cell_type": "markdown",
   "metadata": {},
   "source": [
    "### Send one\n",
    "- Using with \"with\" and not sleep, OR\n",
    "- Not using with \"with\" but BusABC.shutdown()"
   ]
  },
  {
   "cell_type": "code",
   "execution_count": null,
   "metadata": {},
   "outputs": [],
   "source": [
    "import can\n",
    "import time\n",
    "\n",
    "with can.Bus(interface='neovi', channel=1, bitrate=500000) as bus:\n",
    "    msg = can.Message(arbitration_id=0x021, data=[0, 25, 0, 1, 3, 1], is_extended_id=False)\n",
    "    try:\n",
    "        bus.send(msg)\n",
    "        print(f\"Message sent on {bus.channel_info}\")\n",
    "    except can.CanError:\n",
    "        print(\"Message NOT sent\")        \n",
    "    # time.sleep(10)   # not sleep here"
   ]
  },
  {
   "cell_type": "code",
   "execution_count": null,
   "metadata": {},
   "outputs": [],
   "source": [
    "import can\n",
    "import time\n",
    "\n",
    "msg = can.Message(arbitration_id=0x021, data=[0, 25, 0, 1, 3, 1], is_extended_id=False)\n",
    "bus = can.Bus(interface='neovi', channel=1, bitrate=500000)\n",
    "bus.send(msg)\n",
    "bus.shutdown()"
   ]
  }
 ],
 "metadata": {
  "kernelspec": {
   "display_name": "Python 3",
   "language": "python",
   "name": "python3"
  },
  "language_info": {
   "name": "python",
   "version": "3.11.2"
  }
 },
 "nbformat": 4,
 "nbformat_minor": 2
}
