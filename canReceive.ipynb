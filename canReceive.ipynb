{
 "cells": [
  {
   "cell_type": "markdown",
   "metadata": {},
   "source": [
    "### Receive one"
   ]
  },
  {
   "cell_type": "code",
   "execution_count": null,
   "metadata": {},
   "outputs": [],
   "source": [
    "import can\n",
    "import time\n",
    "\n",
    "count = 0\n",
    "while True:\n",
    "    with can.Bus(interface='neovi', channel=1, bitrate=500000) as bus:\n",
    "        msg = bus.recv(timeout=1)\n",
    "    if msg:\n",
    "        print(f\"Receive {count}: ID={hex(msg.arbitration_id)}, Data={msg.data}\")\n",
    "    else:\n",
    "        # print(\"Receive time out\")\n",
    "        pass\n"
   ]
  },
  {
   "cell_type": "code",
   "execution_count": null,
   "metadata": {},
   "outputs": [],
   "source": [
    "import time\n",
    "import can\n",
    "import threading\n",
    "\n",
    "def task1():\n",
    "    msg = can.Message(arbitration_id=0x021, data=[3, 4, 5, 1], is_extended_id=False)\n",
    "    while 1:\n",
    "        with can.ThreadSafeBus(interface='virtual', channel=1) as bus:\n",
    "            bus.send(msg)\n",
    "            print(f\"S-Message: ID={hex(msg.arbitration_id)}, Data={msg.data}\")\n",
    "\n",
    "        time.sleep(2)\n",
    "\n",
    "def task2():\n",
    "    count = 0\n",
    "    while 1:\n",
    "        with can.ThreadSafeBus(interface='virtual', channel=1) as bus:\n",
    "            msg2 = bus.recv()\n",
    "\n",
    "        if msg2:\n",
    "            print(f\"Receive {count}: ID={hex(msg2.arbitration_id)}, Data={msg2.data}\")\n",
    "            # time.sleep(0.5)\n",
    "            count = count + 1\n",
    "        else:\n",
    "            # print(\"Time out\")\n",
    "            pass\n",
    "\n",
    "def init():\n",
    "    thread2 = threading.Thread(target=task2)\n",
    "    thread1 = threading.Thread(target=task1)\n",
    "\n",
    "    thread2.start()\n",
    "    thread1.start()\n",
    "\n",
    "    thread1.join()\n",
    "    thread2.join()\n",
    "\n",
    "if __name__ == \"__main__\":\n",
    "    init()\n",
    "    print(\"Program finished!\")"
   ]
  }
 ],
 "metadata": {
  "kernelspec": {
   "display_name": "Python 3",
   "language": "python",
   "name": "python3"
  },
  "language_info": {
   "codemirror_mode": {
    "name": "ipython",
    "version": 3
   },
   "file_extension": ".py",
   "mimetype": "text/x-python",
   "name": "python",
   "nbconvert_exporter": "python",
   "pygments_lexer": "ipython3",
   "version": "3.11.2"
  }
 },
 "nbformat": 4,
 "nbformat_minor": 2
}
